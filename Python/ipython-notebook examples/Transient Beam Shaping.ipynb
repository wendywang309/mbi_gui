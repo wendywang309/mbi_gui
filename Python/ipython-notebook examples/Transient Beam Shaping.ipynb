{
 "cells": [
  {
   "cell_type": "code",
   "execution_count": 1,
   "metadata": {
    "collapsed": false
   },
   "outputs": [],
   "source": [
    "import numpy as np\n",
    "import matplotlib.pyplot as plt\n",
    "import matplotlib.patches as patches\n",
    "import matplotlib.axis as ax\n",
    "import matplotlib.image as img\n",
    "import os\n",
    "%matplotlib tk"
   ]
  },
  {
   "cell_type": "code",
   "execution_count": 2,
   "metadata": {
    "collapsed": false
   },
   "outputs": [],
   "source": [
    "# modulation frequency\n",
    "frequency = 10e9  # this is not practically realizable yet\n",
    "#frequency = 2*10e8  # close to what's possible today\n",
    "#frequency = 1.5*10e8  # realizable with our PMD camera\n",
    "# speed of light\n",
    "c = 3*10e8\n",
    "# wavelength in meters\n",
    "wavelength = c/(2*frequency)"
   ]
  },
  {
   "cell_type": "code",
   "execution_count": 3,
   "metadata": {
    "collapsed": false
   },
   "outputs": [],
   "source": [
    "# functions for generating and manipulating spatio-temporal signals\n",
    "\n",
    "# create a sinusoidal temporal signal with the specified number of periods \n",
    "# and samples per period and return it as a column vector\n",
    "def transientSignal1D(samplesPerWavelength,numWavelengths):\n",
    "    vec = np.cos(np.arange(0,samplesPerWavelength*numWavelengths)*2*np.pi/samplesPerWavelength)\n",
    "    return vec.reshape(len(vec),1)\n",
    "\n",
    "# create a spatio-temporal projector signal with the specified number of pixels \n",
    "def transientSignal2D(signal1D, numPixels):\n",
    "    return np.dot(np.ones((numPixels,1)), signal1D.transpose())\n",
    "\n",
    "# apply a per-pixel shift to given spatio-temporal signal, with the shift\n",
    "# expressed in units of time samples (ie. how many columns to shift a given row)\n",
    "def applyDelay(signal2D, shiftVec):\n",
    "    signal2Dshifted = np.zeros(signal2D.shape)\n",
    "    for i in range(0,signal2D.shape[0]):\n",
    "        signal2Dshifted[i,:] = np.roll(signal2D[i,:], shiftVec[i])\n",
    "    return signal2Dshifted\n",
    "\n",
    "# display a spatio-temporal signal\n",
    "def displaySignal2D(signal2D, fignum, title):\n",
    "    plt.figure(fignum)\n",
    "    plt.xlabel(r'time $t$  ( $\\times %g$ nsec)'%(secondsPerSample*10e9))\n",
    "    plt.ylabel(r'pixel')\n",
    "    plt.imshow(signal2D, cmap='gray')\n",
    "    plt.title(title)\n",
    "\n",
    "# convert a vector of distances to a vector of time delays\n",
    "distance2time = np.vectorize(lambda x: x/c)\n",
    "# convert a vector of time delays to a vector of shifts of a spatio-temporal signal \n",
    "time2sample = np.vectorize(lambda x: x/secondsPerSample)"
   ]
  },
  {
   "cell_type": "code",
   "execution_count": 4,
   "metadata": {
    "collapsed": true
   },
   "outputs": [],
   "source": [
    "# functions that implement basic geometric operations on a 2D plane\n",
    "\n",
    "# given a source and a set of 2D points, compute the homogeneous \n",
    "# coordinates of the rays passing through the source and each of the points\n",
    "#\n",
    "# the rays are returned as a 3xN matrix of homogeneous ray coordinates\n",
    "def joinPoints(source, points):\n",
    "    # replicate the source N times to create a matrix of the same \n",
    "    # size as the 3xN matrix of points\n",
    "    repSource = np.dot(source, np.ones((1,points.shape[1])))\n",
    "    # the homogeneous coords of the ray through two points is given by the \n",
    "    # cross product of their homogeneous point coords\n",
    "    return np.cross(repSource, points, axis=0)\n",
    "\n",
    "# given a plane and a set of rays, compute the homogeneous \n",
    "# coordinates of the intersection of the plane and each of the rays\n",
    "#\n",
    "# the points are returned as a 3xN matrix of homogeneous 2D point coordinates\n",
    "def intersectPlaneRays(plane, rays):\n",
    "    # replicate the plane coords N times to create a matrix of the same \n",
    "    # size as the 3xN matrix of rays\n",
    "    repPlane = np.dot(plane, np.ones((1,rays.shape[1])))\n",
    "    # the homogeneous coords of the intersection of two rays is given by the \n",
    "    # cross product of their homogeneous ray coords\n",
    "    return np.cross(repPlane, rays, axis=0)\n",
    "\n",
    "# convert homogeneous coordinates to Euclidean coordinates\n",
    "def homogeneous2euclidean(coords):\n",
    "    euc = np.zeros(coords.shape)\n",
    "    for i in range(0,3):\n",
    "        euc[i,:] = np.divide(coords[i,:],coords[2,:])\n",
    "    return euc\n",
    "\n",
    "# compute distances between a point and an array of points\n",
    "def point2pointDistance(point, points):\n",
    "    dist = np.zeros((points.shape[1], 1))\n",
    "    for i in range(0, points.shape[1]):\n",
    "        dist[i] = np.linalg.norm(point[:,0]-points[:,i])\n",
    "    return dist"
   ]
  },
  {
   "cell_type": "code",
   "execution_count": 5,
   "metadata": {
    "collapsed": true
   },
   "outputs": [],
   "source": [
    "# routines for plotting & receiving mouse input\n",
    "\n",
    "# wait for a mouse click on the current figure and return the homogeneous \n",
    "# coordinates of the point clicked as a column vector\n",
    "def ginputCoords(text='', show=False, style=None):\n",
    "    plt.title(text)\n",
    "    plt.show()\n",
    "    coords = (plt.ginput(n=1))[0]\n",
    "    if show:\n",
    "        plt.plot([coords[0]], [coords[1]], style)\n",
    "        plt.show()\n",
    "    # we need to swap the coords because of the ways they are returned by ginput\n",
    "    x, y = coords[0], coords[1]\n",
    "    return np.array([x, y, 1]).reshape(3,1)\n",
    "\n",
    "# display a set of line segments that begin at a common \"source\" and end\n",
    "# at a set of points given by a matrix\n",
    "def showSegments(source, endpoints, style='b'):\n",
    "    plt.figure(1)\n",
    "    for i in range(0,endpoints.shape[1]):\n",
    "        x0, y0 = source[0], source[1]\n",
    "        x1, y1 = endpoints[0,i], endpoints[1,i]\n",
    "        plt.plot([x0, x1],[y0, y1], style)\n",
    "    plt.show()"
   ]
  },
  {
   "cell_type": "code",
   "execution_count": 6,
   "metadata": {
    "collapsed": false
   },
   "outputs": [],
   "source": [
    "# routines for defining & drawing the scene\n",
    "\n",
    "def defineScene():\n",
    "    # build the scene\n",
    "    fig = plt.figure(1)\n",
    "    fig.clf()\n",
    "    xmin = -5\n",
    "    xmax = 1\n",
    "    ymin = -1\n",
    "    ymax = 5\n",
    "    plt.plot([xmin,xmax],[0, 0],'b')\n",
    "    plt.hold(True)\n",
    "    plt.plot([0,0],[ymin, ymax],'b')\n",
    "    plt.xlabel('x (meters)')\n",
    "    plt.ylabel('y (meters)')\n",
    "    plt.text(0.1,0.5,'Wall', rotation=-90, fontsize=20)\n",
    "    plt.show()\n",
    "    sceneBounds = [xmin, xmax, ymin, ymax]\n",
    "    wallCoords = np.array([1, 0, 0]).reshape(3,1)\n",
    "    return sceneBounds, wallCoords\n",
    "\n",
    "# interactively specify the coordinates of the projector's center of projection\n",
    "# and the two endpoints of the projector's plane\n",
    "def defineProjector():\n",
    "    msg = 'click on plot to position projector center of projection'\n",
    "    projectorCenter = ginputCoords(msg, show=True, style='r+')\n",
    "    plt.text(projectorCenter[0]-0.2, projectorCenter[1]-0.2, 'Projector')\n",
    "    projectorEndpoints = np.zeros((3,2),dtype=np.float32)\n",
    "    for i in range(0,2):\n",
    "        msg = 'click on plot twice to draw the projector plane'\n",
    "        endpoint = ginputCoords(msg, show=True, style='ro')\n",
    "        projectorEndpoints[:,i] = endpoint[:,0]\n",
    "    plt.plot(projectorEndpoints[0,:],projectorEndpoints[1,:],'r')\n",
    "    return projectorCenter, projectorEndpoints\n",
    "\n",
    "# interactively specify the coordinates of the scene point where we want the\n",
    "# transient signal to arrive 'in sync'\n",
    "def defineFocus():\n",
    "    msg = 'click on plot to position the focus point'\n",
    "    focusPoint = ginputCoords(msg, show=True, style='b+')\n",
    "    plt.text(focusPoint[0]-0.2, focusPoint[1]+0.1, 'Focus')\n",
    "    return focusPoint\n",
    "\n",
    "# interactively specify the coordinates of a second scene point\n",
    "def defineTest():\n",
    "    msg = 'click on plot to position a second scene point'\n",
    "    testPoint = ginputCoords(msg, show=True, style='b+')\n",
    "    plt.text(testPoint[0]-0.2, testPoint[1]+0.1, 'Test')\n",
    "    return testPoint\n",
    "\n",
    "# interactively specify the coordinates of a second scene point\n",
    "def defineRegion():\n",
    "    msg = 'click on plot to specify the top-left corner of region of interest'\n",
    "    topLeft = ginputCoords(msg, show=True, style='g+')\n",
    "    msg = 'click on plot to specify the bottom-right corner of region of interest'\n",
    "    bottomRight = ginputCoords(msg, show=True, style='g+')\n",
    "    plt.plot([topLeft[0], topLeft[0]], [topLeft[1], bottomRight[1]],'g')\n",
    "    plt.plot([topLeft[0], bottomRight[0]], [bottomRight[1], bottomRight[1]],'g')\n",
    "    plt.plot([bottomRight[0], bottomRight[0]], [bottomRight[1], topLeft[1]],'g')\n",
    "    plt.plot([bottomRight[0], topLeft[0]], [topLeft[1], topLeft[1]],'g')\n",
    "    plt.text(topLeft[0]+0.2,topLeft[1]+0.1,'ROI')\n",
    "    return topLeft, bottomRight\n",
    "\n",
    "\n",
    "# linearly interpolate the two endpoints of the projector plane to get\n",
    "# a set of N distinct projector pixels, expressed as a 3xN matrix of\n",
    "# homogeneous pixel coordinates \n",
    "def projectorPixelCoords(projectorEndpoints, projectorPixels):\n",
    "    pixelCoords = np.zeros((3, projectorPixels))\n",
    "    for i in range(0,2):\n",
    "        pixelCoords[i,:] = np.linspace(projectorEndpoints[i,0],\\\n",
    "                                       projectorEndpoints[i,1],\\\n",
    "                                       projectorPixels)\n",
    "    pixelCoords[2,:] = 1\n",
    "    return pixelCoords\n",
    "\n",
    "def regionPoints(topLeft, bottomRight, spacing):\n",
    "    # define a grid of points on the plane\n",
    "    # this will be a 2xNxM matrix of 2D point coordinates\n",
    "    # with [0,:,:] holding the Y coordinate and [1,:,:] holding the X coordinate\n",
    "    # we therefore reverse the output of mgrid so that the x and y coordinates are flipped\n",
    "    return (np.mgrid[bottomRight[1]:topLeft[1]:spacing, topLeft[0]:bottomRight[0]:spacing])[::-1,...]"
   ]
  },
  {
   "cell_type": "code",
   "execution_count": 7,
   "metadata": {
    "collapsed": true
   },
   "outputs": [],
   "source": [
    "# implementation of one ray-tracing step from a point source to a destination plane\n",
    "# the ray sampling is expressed as a matrix of points that the rays must go through \n",
    "#\n",
    "# given a source and a matrix of points, (a) cast rays that begin\n",
    "# at the source and pass through each of the points in the\n",
    "# matrix, (b) intersect those rays with the destination plane, and (c) return the\n",
    "# homogeneous coordinates of their intersection points\n",
    "def propagatePoint2Plane(source, points, destPlane):\n",
    "    # compute the 2D ray associated with each point in the set\n",
    "    rays = joinPoints(source, points)\n",
    "    # return the intersection of these rays with the destination plane\n",
    "    return homogeneous2euclidean(intersectPlaneRays(destPlane, rays))"
   ]
  },
  {
   "cell_type": "code",
   "execution_count": 8,
   "metadata": {
    "collapsed": true
   },
   "outputs": [],
   "source": [
    "# propagate a spatio-temporal signal from a point source to a destination plane\n",
    "def propagateSignalPoint2Plane(signal, source, points, destPlane):\n",
    "    # execute one ray-tracing step to get a set of 2D points on\n",
    "    # the destination plane, in euclidean 2D coordinates\n",
    "    destPoints = propagatePoint2Plane(source, points, destPlane)\n",
    "    # compute the distance between the source and the destination points\n",
    "    distances = point2pointDistance(source, destPoints)\n",
    "    # convert these distances to shifts of the spatiotemporal transient signal\n",
    "    shifts = np.int64(np.round(time2sample(distance2time(distances))))\n",
    "    # shift each row of the spatiotemporal signal to account for light arrival delays\n",
    "    return applyDelay(signal, shifts), shifts, destPoints\n",
    "\n",
    "# propagate a spatio-temporal signal from an area source to a destination point,\n",
    "# with the area source expressed as an array of homogeneous point coordinates\n",
    "def propagateSignalAreaSource2Point(signal, sourcePoints, destPoint):\n",
    "    # compute the distance between the source points and the destination point\n",
    "    distances = point2pointDistance(destPoint, sourcePoints)\n",
    "    # convert these distances to shifts of the spatiotemporal transient signal\n",
    "    shifts = np.int64(np.round(time2sample(distance2time(distances))))\n",
    "    # shift each row of the spatiotemporal signal to account for light arrival delays\n",
    "    return applyDelay(signal, shifts), shifts\n",
    "\n",
    "# propagate a spatio-temporal signal from a point source to a destination point\n",
    "# via an intermediate diffuse reflection plane. the rays used for propagation are\n",
    "# expressed as an array of points that the rays from the source must go through\n",
    "def propagateSignalPoint2Point(signal, source, points, dest, intermediatePlane):\n",
    "    # first we compute the spatio-temporal signal after one ray-tracing step\n",
    "    planeSignal, source2planeDelays, planeCoords = \\\n",
    "        propagateSignalPoint2Plane(signal, source, points, intermediatePlane)\n",
    "    # now we compute the spatio-temporal signal after a second ray-tracing step,\n",
    "    # from the intermediate plane to the destination point\n",
    "    destSignal, plane2destDelays = \\\n",
    "        propagateSignalAreaSource2Point(planeSignal, planeCoords, dest)\n",
    "    # return all the computed quantities\n",
    "    return destSignal, planeSignal, source2planeDelays, plane2destDelays, planeCoords\n"
   ]
  },
  {
   "cell_type": "code",
   "execution_count": 9,
   "metadata": {
    "collapsed": true
   },
   "outputs": [],
   "source": [
    "### Simulation parameters"
   ]
  },
  {
   "cell_type": "code",
   "execution_count": 10,
   "metadata": {
    "collapsed": true
   },
   "outputs": [],
   "source": [
    "# string to use for saving results of this simulation run\n",
    "runID = 'example4'"
   ]
  },
  {
   "cell_type": "code",
   "execution_count": 11,
   "metadata": {
    "collapsed": true
   },
   "outputs": [],
   "source": [
    "# number of projector pixels\n",
    "# increasing the number of pixels results in better \n",
    "# localization of the focus spot but makes the run much\n",
    "# more computationally intensive\n",
    "# projectorPixels = 200  # this is a pretty high setting\n",
    "projectorPixels = 10 # use this initially for testing/exploring "
   ]
  },
  {
   "cell_type": "code",
   "execution_count": 12,
   "metadata": {
    "collapsed": false
   },
   "outputs": [
    {
     "name": "stdout",
     "output_type": "stream",
     "text": [
      "Meters per time sample = 0.006\n"
     ]
    }
   ],
   "source": [
    "# samples to include in the space-time plots of intensity distribution\n",
    "samplesPerWavelength = 25\n",
    "numWavelengths = 4\n",
    "metersPerSample = wavelength/samplesPerWavelength\n",
    "secondsPerSample = metersPerSample/c\n",
    "numSamples = samplesPerWavelength * numWavelengths\n",
    "print 'Meters per time sample = %g'%(metersPerSample)"
   ]
  },
  {
   "cell_type": "code",
   "execution_count": 13,
   "metadata": {
    "collapsed": true
   },
   "outputs": [],
   "source": [
    "### Defining the scene"
   ]
  },
  {
   "cell_type": "code",
   "execution_count": 14,
   "metadata": {
    "collapsed": false
   },
   "outputs": [
    {
     "name": "stderr",
     "output_type": "stream",
     "text": [
      "C:\\Program Files\\Anaconda2\\lib\\site-packages\\matplotlib\\backend_bases.py:2437: MatplotlibDeprecationWarning: Using default event loop until function specific to this GUI is implemented\n",
      "  warnings.warn(str, mplDeprecation)\n"
     ]
    }
   ],
   "source": [
    "# specify basic scene parameters interactively\n",
    "plt.figure(1)\n",
    "plt.axis('equal')\n",
    "sceneBounds, wallCoords = defineScene()\n",
    "projectorCenter, projectorEndpoints = defineProjector()\n",
    "focusPoint = defineFocus()\n",
    "testPoint = defineTest()\n",
    "topLeft, bottomRight = defineRegion()\n",
    "# compute the 2D point associated with each projector pixel\n",
    "pcoords = projectorPixelCoords(projectorEndpoints,projectorPixels)"
   ]
  },
  {
   "cell_type": "code",
   "execution_count": 15,
   "metadata": {
    "collapsed": false
   },
   "outputs": [],
   "source": [
    "### Do the ray-tracing simulation"
   ]
  },
  {
   "cell_type": "code",
   "execution_count": 16,
   "metadata": {
    "collapsed": false
   },
   "outputs": [],
   "source": [
    "# define & display the projector's spatio-temporal signal\n",
    "projectorSignal = transientSignal2D(transientSignal1D(samplesPerWavelength,numWavelengths),\\\n",
    "                                    projectorPixels)\n",
    "displaySignal2D(projectorSignal, 2, 'Transient signal at projector')"
   ]
  },
  {
   "cell_type": "code",
   "execution_count": 17,
   "metadata": {
    "collapsed": false
   },
   "outputs": [],
   "source": [
    "# first, we execute the ray tracing from the source to the focus point and display the light paths\n",
    "focusSignal, wallSignal, source2wallDelays, wall2focusDelays, wallPointCoords = \\\n",
    "    propagateSignalPoint2Point(projectorSignal, projectorCenter, pcoords, \\\n",
    "                               focusPoint, wallCoords)\n",
    "# show the paths from the projector center to the wall\n",
    "showSegments(projectorCenter, wallPointCoords)\n",
    "# show the paths from the wall to the focus point\n",
    "showSegments(focusPoint, wallPointCoords)\n",
    "# display the spatio-temporal signal received at the wall\n",
    "displaySignal2D(wallSignal, 3, 'Transient signal at wall')\n",
    "# display the spatio-temporal signal received at the focus point\n",
    "displaySignal2D(focusSignal, 4, 'Transient signal at focus')"
   ]
  },
  {
   "cell_type": "code",
   "execution_count": 18,
   "metadata": {
    "collapsed": false
   },
   "outputs": [],
   "source": [
    "# now that we can compute the total delays to the focus point, we can \n",
    "# apply the reverse delays to the initial signal so it arrives\n",
    "# 'in sync' at the focus point\n",
    "totalDelays = source2wallDelays + wall2focusDelays\n",
    "focusedProjectorSignal = applyDelay(projectorSignal, -totalDelays)\n",
    "# let's display this signal as well\n",
    "displaySignal2D(focusedProjectorSignal, 5, 'Re-focused transient signal at projector')\n",
    "# propagating this signal should produce a spatio-temporal signal that arrives 'in sync'\n",
    "# at the focus point\n",
    "focusSignal2, wallSignal, source2wallDelays, wall2focusDelays, wallPointCoords = \\\n",
    "    propagateSignalPoint2Point(focusedProjectorSignal, projectorCenter, pcoords, \\\n",
    "                               focusPoint, wallCoords)\n",
    "displaySignal2D(focusSignal2, 6, 'New transient signal at focus')\n",
    "# the transient signal arriving at the focus point across all paths is given\n",
    "# by the column-wise sum \n",
    "focusSignal1D = focusSignal2.sum(axis=0)"
   ]
  },
  {
   "cell_type": "code",
   "execution_count": 19,
   "metadata": {
    "collapsed": false
   },
   "outputs": [],
   "source": [
    "# now let's propagate the signal to a second 'test' point in the scene\n",
    "# the signal should not arrive 'in sync' for such a point\n",
    "testSignal, wallSignal, source2wallDelays, wall2focusDelays, wallPointCoords = \\\n",
    "    propagateSignalPoint2Point(focusedProjectorSignal, projectorCenter, pcoords, \\\n",
    "                               testPoint, wallCoords)\n",
    "displaySignal2D(testSignal, 7, 'Transient signal at test point')\n",
    "# the transient signal arriving at the test point across all paths is given\n",
    "# by the column-wise sum \n",
    "testSignal1D = testSignal.sum(axis=0)\n",
    "plt.figure(8)\n",
    "plt.plot(focusSignal1D,'r')\n",
    "plt.hold(True)\n",
    "plt.plot(testSignal1D,'b')\n",
    "plt.title('Comparison of transient signal arriving at focus point and test point')\n",
    "plt.legend((r'focus point $(%0.3g,%0.3g)$'%(focusPoint[0],focusPoint[1]),\\\n",
    "            r'test point $(%0.3g,%0.3g)$'%(testPoint[0],testPoint[1])))\n",
    "plt.hold(False)"
   ]
  },
  {
   "cell_type": "code",
   "execution_count": 20,
   "metadata": {
    "collapsed": false
   },
   "outputs": [
    {
     "name": "stdout",
     "output_type": "stream",
     "text": [
      "Grid size is 27x103\n"
     ]
    }
   ],
   "source": [
    "# finally, let's do the calculation for a whole region of points on the scene plane\n",
    "# this is done very inefficiently at the moment, for the sake of simplicity..\n",
    "\n",
    "# we first discretize the region of interest at the resolution of individual time samples\n",
    "# this returns an MxN grid of 2D euclidean coordinates\n",
    "rpoints = regionPoints(topLeft, bottomRight, metersPerSample)\n",
    "# now let's allocate the array that will hold the spatio-temporal signals of all the points\n",
    "# this will be an TxMxN array where T is the number of time samples\n",
    "regionSignals = np.zeros((rpoints.shape[1], rpoints.shape[2], numSamples))\n",
    "print 'Grid size is %dx%d'%(rpoints.shape[1], rpoints.shape[2])"
   ]
  },
  {
   "cell_type": "code",
   "execution_count": 21,
   "metadata": {
    "collapsed": false
   },
   "outputs": [],
   "source": [
    "# finally, we iterate over all points, performing the ray-tracing calculations\n",
    "for i in range(0,rpoints.shape[1]):\n",
    "    # iterate over x coordinates\n",
    "    for j in range(0,rpoints.shape[2]):\n",
    "        # iterate over y coordinates\n",
    "        testPoint[0] = rpoints[0,i,j]\n",
    "        testPoint[1] = rpoints[1,i,j]\n",
    "        testSignal, wallSignal, source2wallDelays, wall2focusDelays, wallPointCoords = \\\n",
    "                    propagateSignalPoint2Point(focusedProjectorSignal, projectorCenter, \\\n",
    "                                                pcoords, testPoint, wallCoords)\n",
    "        regionSignals[i,j,:] = testSignal.sum(axis=0)"
   ]
  },
  {
   "cell_type": "code",
   "execution_count": 22,
   "metadata": {
    "collapsed": true
   },
   "outputs": [],
   "source": [
    "### Show the results"
   ]
  },
  {
   "cell_type": "code",
   "execution_count": 23,
   "metadata": {
    "collapsed": false
   },
   "outputs": [
    {
     "name": "stderr",
     "output_type": "stream",
     "text": [
      "C:\\Program Files\\Anaconda2\\lib\\site-packages\\matplotlib\\axes\\_base.py:1210: UnicodeWarning: Unicode equal comparison failed to convert both arguments to Unicode - interpreting them as being unequal\n",
      "  if aspect == 'normal':\n",
      "C:\\Program Files\\Anaconda2\\lib\\site-packages\\matplotlib\\axes\\_base.py:1215: UnicodeWarning: Unicode equal comparison failed to convert both arguments to Unicode - interpreting them as being unequal\n",
      "  elif aspect in ('equal', 'auto'):\n"
     ]
    }
   ],
   "source": [
    "plt.figure(9)\n",
    "asp = (topLeft[0,0]-bottomRight[0,0])/(bottomRight[1,0]-topLeft[1,0])\n",
    "# to display using the imshow function, we need to flip the rows\n",
    "# of the matrix because imshow displays images with the (0,0) pixel\n",
    "# in the upper-left rather than lower-left corner\n",
    "plt.imshow(np.squeeze(regionSignals[:,:,0])[::-1],\\\n",
    "           cmap='gray', aspect=asp,\\\n",
    "           extent=(topLeft[0,0],bottomRight[0,0],bottomRight[1,0],topLeft[1,0]))\n",
    "plt.title('Intensity distribution in region of interest')\n",
    "plt.xlabel('x (meters)')\n",
    "plt.ylabel('y (meters)')\n",
    "plt.hold(True)\n",
    "plt.plot(focusPoint[0,0],focusPoint[1,0],'r+')\n",
    "plt.text(focusPoint[0,0]-0.1,focusPoint[1,0]+0.1,'Focus')\n",
    "plt.hold(False)"
   ]
  },
  {
   "cell_type": "code",
   "execution_count": 24,
   "metadata": {
    "collapsed": true
   },
   "outputs": [],
   "source": [
    "### Save the basic parameters and results"
   ]
  },
  {
   "cell_type": "code",
   "execution_count": 25,
   "metadata": {
    "collapsed": false
   },
   "outputs": [],
   "source": [
    "# create a directory for the results if it doesn't exist\n",
    "if not os.path.exists(runID):\n",
    "    os.mkdir(runID)\n",
    "# save the interactively-specified variables\n",
    "np.savez_compressed(runID+'/'+'scene_params.npz',\\\n",
    "                    sceneBounds=sceneBounds,\\\n",
    "                    wallCoords=wallCoords,\\\n",
    "                    projectorCenter=projectorCenter,\\\n",
    "                    projectorEndpoints=projectorEndpoints,\\\n",
    "                    focusPoint=focusPoint,\\\n",
    "                    topLeft=topLeft,\\\n",
    "                    bottomRight=bottomRight)\n",
    "# save the figures in PDF format\n",
    "plt.figure(1)\n",
    "plt.savefig(runID+'/'+'scene.pdf')\n",
    "plt.figure(2)\n",
    "plt.savefig(runID+'/'+'transient.unfocused.projector.pdf')\n",
    "plt.figure(3)\n",
    "plt.savefig(runID+'/'+'transient.unfocused.wall.pdf')\n",
    "plt.figure(4)\n",
    "plt.savefig(runID+'/'+'transient.unfocused.focusPoint.pdf')\n",
    "plt.figure(5)\n",
    "plt.savefig(runID+'/'+'transient.focused.projector.pdf')\n",
    "plt.figure(6)\n",
    "plt.savefig(runID+'/'+'transient.focused.focusPoint.pdf')\n",
    "plt.figure(7)\n",
    "plt.savefig(runID+'/'+'transient.focused.testPoint.pdf')\n",
    "plt.figure(8)\n",
    "plt.savefig(runID+'/'+'comparison.pdf')\n",
    "plt.figure(9)\n",
    "plt.savefig(runID+'/'+'distribution.pdf')\n",
    "# save all basic matrices\n",
    "np.savez_compressed(runID+'/'+'results.npz',\\\n",
    "                     totalDelays=totalDelays,\\\n",
    "                     focusedProjectorSignal=focusedProjectorSignal,\\\n",
    "                     focusSignal2=focusSignal2,\\\n",
    "                     wallSignal=wallSignal,\\\n",
    "                     source2wallDelays=source2wallDelays,\\\n",
    "                     wall2focusDelays=wall2focusDelays,\\\n",
    "                     wallPointCoords=wallPointCoords,\\\n",
    "                     focusSignal1D=focusSignal1D,\\\n",
    "                     rpoints=rpoints,\\\n",
    "                     regionSignals=regionSignals)"
   ]
  },
  {
   "cell_type": "code",
   "execution_count": 26,
   "metadata": {
    "collapsed": false
   },
   "outputs": [
    {
     "data": {
      "text/plain": [
       "array([[-1.625  ],\n",
       "       [ 0.40625],\n",
       "       [ 1.     ]])"
      ]
     },
     "execution_count": 26,
     "metadata": {},
     "output_type": "execute_result"
    }
   ],
   "source": [
    "# loading & accessing the saved results\n",
    "qq = np.load(runID+'/'+'scene_params.npz')\n",
    "focusPoint = qq['focusPoint']\n",
    "focusPoint"
   ]
  },
  {
   "cell_type": "code",
   "execution_count": null,
   "metadata": {
    "collapsed": true
   },
   "outputs": [],
   "source": []
  },
  {
   "cell_type": "code",
   "execution_count": null,
   "metadata": {
    "collapsed": true
   },
   "outputs": [],
   "source": []
  },
  {
   "cell_type": "code",
   "execution_count": null,
   "metadata": {
    "collapsed": true
   },
   "outputs": [],
   "source": []
  }
 ],
 "metadata": {
  "anaconda-cloud": {},
  "kernelspec": {
   "display_name": "Python [default]",
   "language": "python",
   "name": "python2"
  },
  "language_info": {
   "codemirror_mode": {
    "name": "ipython",
    "version": 2
   },
   "file_extension": ".py",
   "mimetype": "text/x-python",
   "name": "python",
   "nbconvert_exporter": "python",
   "pygments_lexer": "ipython2",
   "version": "2.7.12"
  }
 },
 "nbformat": 4,
 "nbformat_minor": 0
}
