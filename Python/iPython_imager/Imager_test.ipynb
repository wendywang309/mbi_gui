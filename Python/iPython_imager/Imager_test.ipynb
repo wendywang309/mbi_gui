{
 "cells": [
  {
   "cell_type": "code",
   "execution_count": 1,
   "metadata": {
    "collapsed": false
   },
   "outputs": [],
   "source": [
    "import sys\n",
    "import ok\n",
    "import matplotlib.pylab as plt\n",
    "import matplotlib.image as mpimg\n",
    "import PIL.Image as img\n",
    "import numpy as np\n",
    "import cv2\n",
    "from IPython.display import clear_output\n",
    "%matplotlib tk"
   ]
  },
  {
   "cell_type": "code",
   "execution_count": 2,
   "metadata": {
    "collapsed": false
   },
   "outputs": [
    {
     "name": "stdout",
     "output_type": "stream",
     "text": [
      "Device[0] Model: 21\n",
      "Device[0] Serial: 1631000FBO\n"
     ]
    }
   ],
   "source": [
    "dev = ok.okCFrontPanel()\n",
    "deviceCount = dev.GetDeviceCount()\n",
    "for i in range(deviceCount):\n",
    "    print 'Device[{0}] Model: {1}'.format(i, dev.GetDeviceListModel(i))\n",
    "    print 'Device[{0}] Serial: {1}'.format(i, dev.GetDeviceListSerial(i))"
   ]
  },
  {
   "cell_type": "code",
   "execution_count": 3,
   "metadata": {
    "collapsed": false
   },
   "outputs": [],
   "source": [
    "dev = ok.okCFrontPanel()\n",
    "dev.OpenBySerial(\"\")\n",
    "error = dev.ConfigureFPGA(\"ok_imager.bit\")\n",
    "# Its a good idea to check for errors here"
   ]
  },
  {
   "cell_type": "code",
   "execution_count": 4,
   "metadata": {
    "collapsed": false
   },
   "outputs": [
    {
     "name": "stdout",
     "output_type": "stream",
     "text": [
      "FrontPanel host interface enabled.\n"
     ]
    }
   ],
   "source": [
    "# IsFrontPanelEnabled returns true if FrontPanel is detected.\n",
    "if True == dev.IsFrontPanelEnabled():\n",
    "    print \"FrontPanel host interface enabled.\"\n",
    "else:\n",
    "    sys.stderr.write(\"FrontPanel host interface not detected.\")"
   ]
  },
  {
   "cell_type": "code",
   "execution_count": 5,
   "metadata": {
    "collapsed": false
   },
   "outputs": [],
   "source": [
    "row = 160\n",
    "N_adc = 4\n",
    "N_adcCh = 3\n",
    "N_mux = 46\n",
    "col = N_adc*N_adcCh*N_mux\n",
    "col_fifo = 552\n",
    "count = 1\n",
    "datain128 = bytearray(262144)\n",
    "datain1 = bytearray(176640)"
   ]
  },
  {
   "cell_type": "code",
   "execution_count": 6,
   "metadata": {
    "collapsed": false
   },
   "outputs": [],
   "source": [
    "#im = np.array(img.open('imTest.jpg'))\n",
    "#imgplot = plt.imshow(im)\n",
    "im = np.zeros(shape=(row ,col))\n",
    "im1 = np.zeros(shape=(row ,184))\n",
    "im2 = np.zeros(shape=(row ,184))\n",
    "#plt.figure(3)\n",
    "#plt.imshow(im).set_cmap('gray')\n",
    "#plt.show()"
   ]
  },
  {
   "cell_type": "code",
   "execution_count": 7,
   "metadata": {
    "collapsed": true
   },
   "outputs": [],
   "source": [
    "# assert reset signal to initialize the FIFO.\n",
    "dev.SetWireInValue(0x10, 0xff, 0x01);\n",
    "dev.UpdateWireIns();\n",
    "# deactivate reset signal and activate counter.\n",
    "dev.SetWireInValue(0x10, 0x00, 0x01);\n",
    "dev.UpdateWireIns();   "
   ]
  },
  {
   "cell_type": "code",
   "execution_count": null,
   "metadata": {
    "collapsed": false,
    "scrolled": true
   },
   "outputs": [],
   "source": [
    "# Trigger the counter\n",
    "dev.ActivateTriggerIn(0x53, 0x01)\n",
    "cv2.namedWindow(\"imFull\",cv2.WINDOW_NORMAL)\n",
    "cv2.namedWindow(\"imFull1\",cv2.WINDOW_NORMAL)\n",
    "cv2.namedWindow(\"imFull2\",cv2.WINDOW_NORMAL)\n",
    "cv2.namedWindow(\"im\",cv2.WINDOW_NORMAL)\n",
    "cv2.namedWindow(\"im1\",cv2.WINDOW_NORMAL)\n",
    "cv2.namedWindow(\"im2\",cv2.WINDOW_NORMAL)\n",
    "while True:\n",
    "    # Check for FIFO flag\n",
    "    dev.UpdateTriggerOuts()\n",
    "    # If the FIFO is full, read everything and display one frame only and exit the while loop\n",
    "    if dev.IsTriggered(0x6A, 0x01) == True:\n",
    "        # print 'FIFO full! ', count, ' times'\n",
    "        # count = count + 1\n",
    "        dev.ReadFromPipeOut(0xA0, datain128)\n",
    "        for i in range(row):\n",
    "            for j in range(N_adc):\n",
    "                for k in range(N_adcCh):\n",
    "                    for l in range(N_mux):\n",
    "                        im[row-1-i][col-1-(j*N_adcCh*N_mux+(2-k)*N_mux+45-l)] = datain128[i*col+l*N_adc*N_adcCh+k*N_adc+j]\n",
    "        im = im/255\n",
    "        for i in range(row):\n",
    "            im1[i] = im[i][139:507:2]\n",
    "        for i in range(row):\n",
    "            im2[i] = im[i][138:506:2]\n",
    "        cv2.imshow('imFull',im)\n",
    "        cv2.imshow('imFull1',im1)\n",
    "        cv2.imshow('imFull2',im2)\n",
    "        cv2.waitKey(1)\n",
    "        # break\n",
    "    # If one frame is ready in FIFO\n",
    "    elif dev.IsTriggered(0x6A, 0x02) == True:\n",
    "        dev.ReadFromPipeOut(0xA0, datain1)\n",
    "        for i in range(row):\n",
    "            for j in range(N_adc):\n",
    "                for k in range(N_adcCh):\n",
    "                    for l in range(N_mux):\n",
    "                        im[row-1-i][col-1-(j*N_adcCh*N_mux+(2-k)*N_mux+45-l)] = datain1[i*col+l*N_adc*N_adcCh+k*N_adc+j]\n",
    "        im = im/255\n",
    "        for i in range(row):\n",
    "            im1[i] = im[i][139:507:2]\n",
    "        for i in range(row):\n",
    "            im2[i] = im[i][138:506:2]\n",
    "        cv2.imshow('im',im)\n",
    "        cv2.imshow('im1',im1)\n",
    "        cv2.imshow('im2',im2)\n",
    "        cv2.waitKey(1)"
   ]
  },
  {
   "cell_type": "code",
   "execution_count": null,
   "metadata": {
    "collapsed": true
   },
   "outputs": [],
   "source": [
    "cv2.destroyAllWindows()"
   ]
  },
  {
   "cell_type": "code",
   "execution_count": null,
   "metadata": {
    "collapsed": false
   },
   "outputs": [],
   "source": [
    "print i\n",
    "print j\n",
    "print k\n",
    "print col\n",
    "print i*col+l*N_adc*N_adcCh+k*N_adc+j\n",
    "print j*N_adcCh*N_mux+k*N_mux+l\n"
   ]
  },
  {
   "cell_type": "code",
   "execution_count": null,
   "metadata": {
    "collapsed": true
   },
   "outputs": [],
   "source": [
    "print datain128"
   ]
  },
  {
   "cell_type": "code",
   "execution_count": null,
   "metadata": {
    "collapsed": false,
    "scrolled": false
   },
   "outputs": [],
   "source": [
    "print len(im1)\n",
    "print len(im[0])\n",
    "print len(im[0][185::2])\n",
    "print im[0][::2]*255"
   ]
  },
  {
   "cell_type": "code",
   "execution_count": null,
   "metadata": {
    "collapsed": false,
    "scrolled": true
   },
   "outputs": [],
   "source": [
    "print im[10]*255"
   ]
  },
  {
   "cell_type": "code",
   "execution_count": null,
   "metadata": {
    "collapsed": false,
    "scrolled": true
   },
   "outputs": [],
   "source": [
    "print im[100]*255"
   ]
  },
  {
   "cell_type": "markdown",
   "metadata": {
    "collapsed": false
   },
   "source": [
    "# print im[100][1:10]*255\n",
    "print col"
   ]
  }
 ],
 "metadata": {
  "anaconda-cloud": {},
  "kernelspec": {
   "display_name": "Python [default]",
   "language": "python",
   "name": "python2"
  },
  "language_info": {
   "codemirror_mode": {
    "name": "ipython",
    "version": 2
   },
   "file_extension": ".py",
   "mimetype": "text/x-python",
   "name": "python",
   "nbconvert_exporter": "python",
   "pygments_lexer": "ipython2",
   "version": "2.7.12"
  }
 },
 "nbformat": 4,
 "nbformat_minor": 1
}
