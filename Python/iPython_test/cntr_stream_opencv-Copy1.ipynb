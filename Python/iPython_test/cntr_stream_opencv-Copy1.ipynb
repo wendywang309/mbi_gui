{
 "cells": [
  {
   "cell_type": "code",
   "execution_count": 1,
   "metadata": {
    "collapsed": false
   },
   "outputs": [],
   "source": [
    "import sys\n",
    "import ok\n",
    "import matplotlib.pylab as plt\n",
    "import matplotlib.image as mpimg\n",
    "import PIL.Image as img\n",
    "import numpy as np\n",
    "import cv2\n",
    "from IPython.display import clear_output\n",
    "%matplotlib tk"
   ]
  },
  {
   "cell_type": "code",
   "execution_count": 2,
   "metadata": {
    "collapsed": false
   },
   "outputs": [
    {
     "name": "stdout",
     "output_type": "stream",
     "text": [
      "Device[0] Model: 21\n",
      "Device[0] Serial: 143400091C\n"
     ]
    }
   ],
   "source": [
    "dev = ok.okCFrontPanel()\n",
    "deviceCount = dev.GetDeviceCount()\n",
    "for i in range(deviceCount):\n",
    "    print 'Device[{0}] Model: {1}'.format(i, dev.GetDeviceListModel(i))\n",
    "    print 'Device[{0}] Serial: {1}'.format(i, dev.GetDeviceListSerial(i))"
   ]
  },
  {
   "cell_type": "code",
   "execution_count": 3,
   "metadata": {
    "collapsed": false
   },
   "outputs": [],
   "source": [
    "dev = ok.okCFrontPanel()\n",
    "dev.OpenBySerial(\"\")\n",
    "error = dev.ConfigureFPGA(\"cntr_fifo_str0.bit\")\n",
    "# Its a good idea to check for errors here"
   ]
  },
  {
   "cell_type": "code",
   "execution_count": 4,
   "metadata": {
    "collapsed": false
   },
   "outputs": [
    {
     "name": "stdout",
     "output_type": "stream",
     "text": [
      "FrontPanel host interface enabled.\n"
     ]
    }
   ],
   "source": [
    "# IsFrontPanelEnabled returns true if FrontPanel is detected.\n",
    "if True == dev.IsFrontPanelEnabled():\n",
    "    print \"FrontPanel host interface enabled.\"\n",
    "else:\n",
    "    sys.stderr.write(\"FrontPanel host interface not detected.\")"
   ]
  },
  {
   "cell_type": "code",
   "execution_count": 5,
   "metadata": {
    "collapsed": false
   },
   "outputs": [],
   "source": [
    "row = 16\n",
    "col = 16\n",
    "count = 1\n",
    "im_int = range(32)\n",
    "datain128 = bytearray(131072)\n",
    "datain1 = bytearray(51200)"
   ]
  },
  {
   "cell_type": "code",
   "execution_count": 6,
   "metadata": {
    "collapsed": false
   },
   "outputs": [],
   "source": [
    "#im = np.array(img.open('imTest.jpg'))\n",
    "#imgplot = plt.imshow(im)\n",
    "im = np.zeros(shape=(row ,col))\n",
    "#plt.figure(3)\n",
    "#plt.imshow(im).set_cmap('gray')\n",
    "#plt.show()"
   ]
  },
  {
   "cell_type": "code",
   "execution_count": 7,
   "metadata": {
    "collapsed": true
   },
   "outputs": [],
   "source": [
    "# assert reset signal to initialize the FIFO.\n",
    "dev.SetWireInValue(0x10, 0xff, 0x01);\n",
    "dev.UpdateWireIns();\n",
    "# deactivate reset signal and activate counter.\n",
    "dev.SetWireInValue(0x10, 0x00, 0x01);\n",
    "dev.UpdateWireIns();   "
   ]
  },
  {
   "cell_type": "code",
   "execution_count": 10,
   "metadata": {
    "collapsed": false
   },
   "outputs": [
    {
     "ename": "KeyboardInterrupt",
     "evalue": "",
     "output_type": "error",
     "traceback": [
      "\u001b[0;31m---------------------------------------------------------------------------\u001b[0m",
      "\u001b[0;31mKeyboardInterrupt\u001b[0m                         Traceback (most recent call last)",
      "\u001b[0;32m<ipython-input-10-4e2729ec8fdf>\u001b[0m in \u001b[0;36m<module>\u001b[0;34m()\u001b[0m\n\u001b[1;32m     15\u001b[0m         \u001b[0mim\u001b[0m \u001b[1;33m=\u001b[0m \u001b[0mim\u001b[0m\u001b[1;33m/\u001b[0m\u001b[1;36m255\u001b[0m\u001b[1;33m\u001b[0m\u001b[0m\n\u001b[1;32m     16\u001b[0m         \u001b[0mcv2\u001b[0m\u001b[1;33m.\u001b[0m\u001b[0mimshow\u001b[0m\u001b[1;33m(\u001b[0m\u001b[1;34m'imFull'\u001b[0m\u001b[1;33m,\u001b[0m\u001b[0mim\u001b[0m\u001b[1;33m)\u001b[0m\u001b[1;33m\u001b[0m\u001b[0m\n\u001b[0;32m---> 17\u001b[0;31m         \u001b[0mcv2\u001b[0m\u001b[1;33m.\u001b[0m\u001b[0mwaitKey\u001b[0m\u001b[1;33m(\u001b[0m\u001b[1;36m1\u001b[0m\u001b[1;33m)\u001b[0m\u001b[1;33m\u001b[0m\u001b[0m\n\u001b[0m\u001b[1;32m     18\u001b[0m         \u001b[0mdev\u001b[0m\u001b[1;33m.\u001b[0m\u001b[0mActivateTriggerIn\u001b[0m\u001b[1;33m(\u001b[0m\u001b[1;36m0x53\u001b[0m\u001b[1;33m,\u001b[0m \u001b[1;36m0x02\u001b[0m\u001b[1;33m)\u001b[0m\u001b[1;33m\u001b[0m\u001b[0m\n\u001b[1;32m     19\u001b[0m         \u001b[0mclear_output\u001b[0m\u001b[1;33m(\u001b[0m\u001b[0mwait\u001b[0m\u001b[1;33m=\u001b[0m\u001b[0mTrue\u001b[0m\u001b[1;33m)\u001b[0m\u001b[1;33m\u001b[0m\u001b[0m\n",
      "\u001b[0;31mKeyboardInterrupt\u001b[0m: "
     ]
    }
   ],
   "source": [
    "# Trigger the counter\n",
    "dev.ActivateTriggerIn(0x53, 0x01)\n",
    "cv2.namedWindow(\"imFull\",cv2.WINDOW_NORMAL)\n",
    "cv2.namedWindow(\"im\",cv2.WINDOW_NORMAL)\n",
    "while True:\n",
    "    # Check for FIFO flag\n",
    "    dev.UpdateTriggerOuts()\n",
    "    # If the FIFO is full, read everything and display one frame only and exit the while loop\n",
    "    if dev.IsTriggered(0x6A, 0x01) == True:\n",
    "        # print 'FIFO full! ', count, ' times'\n",
    "        count = count + 1\n",
    "        dev.ReadFromPipeOut(0xA0, datain128)\n",
    "        for i in range(row):\n",
    "            im[i] = datain128[i*col:i*col+col]\n",
    "        im = im/255\n",
    "        cv2.imshow('imFull',im)\n",
    "        cv2.waitKey(1)\n",
    "        dev.ActivateTriggerIn(0x53, 0x02)\n",
    "        # break\n",
    "    # If one frame is ready in FIFO\n",
    "    if dev.IsTriggered(0x6A, 0x04) == True:\n",
    "        dev.ReadFromPipeOut(0xA0, datain1)\n",
    "        for i in range(row):\n",
    "            im[i] = datain1[i*col:i*col+col]\n",
    "        im = im/255\n",
    "        cv2.waitKey(1)\n",
    "        cv2.imshow('im',im)"
   ]
  },
  {
   "cell_type": "code",
   "execution_count": 9,
   "metadata": {
    "collapsed": false
   },
   "outputs": [
    {
     "name": "stdout",
     "output_type": "stream",
     "text": [
      "[[ 239.  238.  237.  236.  243.  242.  241.  240.  247.  246.  245.  244.\n",
      "   251.  250.  249.  248.]\n",
      " [ 255.  254.  253.  252.    3.    2.    1.    0.    7.    6.    5.    4.\n",
      "    11.   10.    9.    8.]\n",
      " [  15.   14.   13.   12.   19.   18.   17.   16.   23.   22.   21.   20.\n",
      "    27.   26.   25.   24.]\n",
      " [  31.   30.   29.   28.   35.   34.   33.   32.   39.   38.   37.   36.\n",
      "    43.   42.   41.   40.]\n",
      " [  47.   46.   45.   44.   51.   50.   49.   48.   55.   54.   53.   52.\n",
      "    59.   58.   57.   56.]\n",
      " [  63.   62.   61.   60.   67.   66.   65.   64.   71.   70.   69.   68.\n",
      "    75.   74.   73.   72.]\n",
      " [  79.   78.   77.   76.   83.   82.   81.   80.   87.   86.   85.   84.\n",
      "    91.   90.   89.   88.]\n",
      " [  95.   94.   93.   92.   99.   98.   97.   96.  103.  102.  101.  100.\n",
      "   107.  106.  105.  104.]\n",
      " [ 111.  110.  109.  108.  115.  114.  113.  112.  119.  118.  117.  116.\n",
      "   123.  122.  121.  120.]\n",
      " [ 127.  126.  125.  124.  131.  130.  129.  128.  135.  134.  133.  132.\n",
      "   139.  138.  137.  136.]\n",
      " [ 143.  142.  141.  140.  147.  146.  145.  144.  151.  150.  149.  148.\n",
      "   155.  154.  153.  152.]\n",
      " [ 159.  158.  157.  156.  163.  162.  161.  160.  167.  166.  165.  164.\n",
      "   171.  170.  169.  168.]\n",
      " [ 175.  174.  173.  172.  179.  178.  177.  176.  183.  182.  181.  180.\n",
      "   187.  186.  185.  184.]\n",
      " [ 191.  190.  189.  188.  195.  194.  193.  192.  199.  198.  197.  196.\n",
      "   203.  202.  201.  200.]\n",
      " [ 207.  206.  205.  204.  211.  210.  209.  208.  215.  214.  213.  212.\n",
      "   219.  218.  217.  216.]\n",
      " [ 223.  222.  221.  220.  227.  226.  225.  224.  231.  230.  229.  228.\n",
      "   235.  234.  233.  232.]]\n"
     ]
    }
   ],
   "source": [
    "print im*255"
   ]
  }
 ],
 "metadata": {
  "anaconda-cloud": {},
  "kernelspec": {
   "display_name": "Python [default]",
   "language": "python",
   "name": "python2"
  },
  "language_info": {
   "codemirror_mode": {
    "name": "ipython",
    "version": 2
   },
   "file_extension": ".py",
   "mimetype": "text/x-python",
   "name": "python",
   "nbconvert_exporter": "python",
   "pygments_lexer": "ipython2",
   "version": "2.7.12"
  }
 },
 "nbformat": 4,
 "nbformat_minor": 1
}
