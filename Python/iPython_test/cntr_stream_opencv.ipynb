{
 "cells": [
  {
   "cell_type": "code",
   "execution_count": 1,
   "metadata": {
    "collapsed": false
   },
   "outputs": [],
   "source": [
    "import sys\n",
    "import ok\n",
    "import matplotlib.pylab as plt\n",
    "import matplotlib.image as mpimg\n",
    "import PIL.Image as img\n",
    "import numpy as np\n",
    "import cv2\n",
    "from IPython.display import clear_output\n",
    "%matplotlib tk"
   ]
  },
  {
   "cell_type": "code",
   "execution_count": 2,
   "metadata": {
    "collapsed": false
   },
   "outputs": [
    {
     "name": "stdout",
     "output_type": "stream",
     "text": [
      "Device[0] Model: 21\n",
      "Device[0] Serial: 143400091C\n"
     ]
    }
   ],
   "source": [
    "dev = ok.okCFrontPanel()\n",
    "deviceCount = dev.GetDeviceCount()\n",
    "for i in range(deviceCount):\n",
    "    print 'Device[{0}] Model: {1}'.format(i, dev.GetDeviceListModel(i))\n",
    "    print 'Device[{0}] Serial: {1}'.format(i, dev.GetDeviceListSerial(i))"
   ]
  },
  {
   "cell_type": "code",
   "execution_count": 3,
   "metadata": {
    "collapsed": false
   },
   "outputs": [],
   "source": [
    "dev = ok.okCFrontPanel()\n",
    "dev.OpenBySerial(\"\")\n",
    "error = dev.ConfigureFPGA(\"cntr_fifo.bit\")\n",
    "# Its a good idea to check for errors here"
   ]
  },
  {
   "cell_type": "code",
   "execution_count": 4,
   "metadata": {
    "collapsed": false
   },
   "outputs": [
    {
     "name": "stdout",
     "output_type": "stream",
     "text": [
      "FrontPanel host interface enabled.\n"
     ]
    }
   ],
   "source": [
    "# IsFrontPanelEnabled returns true if FrontPanel is detected.\n",
    "if True == dev.IsFrontPanelEnabled():\n",
    "    print \"FrontPanel host interface enabled.\"\n",
    "else:\n",
    "    sys.stderr.write(\"FrontPanel host interface not detected.\")"
   ]
  },
  {
   "cell_type": "code",
   "execution_count": 5,
   "metadata": {
    "collapsed": false
   },
   "outputs": [],
   "source": [
    "row = 128\n",
    "col = 128\n",
    "count = 1\n",
    "datain128 = bytearray(131072)\n",
    "datain1 = bytearray(51200)"
   ]
  },
  {
   "cell_type": "code",
   "execution_count": 6,
   "metadata": {
    "collapsed": false
   },
   "outputs": [],
   "source": [
    "#im = np.array(img.open('imTest.jpg'))\n",
    "#imgplot = plt.imshow(im)\n",
    "im = np.zeros(shape=(row ,col))\n",
    "#plt.figure(3)\n",
    "#plt.imshow(im).set_cmap('gray')\n",
    "#plt.show()"
   ]
  },
  {
   "cell_type": "code",
   "execution_count": 7,
   "metadata": {
    "collapsed": true
   },
   "outputs": [],
   "source": [
    "# assert reset signal to initialize the FIFO.\n",
    "dev.SetWireInValue(0x10, 0xff, 0x01);\n",
    "dev.UpdateWireIns();\n",
    "# deactivate reset signal and activate counter.\n",
    "dev.SetWireInValue(0x10, 0x00, 0x01);\n",
    "dev.UpdateWireIns();   "
   ]
  },
  {
   "cell_type": "code",
   "execution_count": 8,
   "metadata": {
    "collapsed": false
   },
   "outputs": [
    {
     "ename": "KeyboardInterrupt",
     "evalue": "",
     "output_type": "error",
     "traceback": [
      "\u001b[0;31m---------------------------------------------------------------------------\u001b[0m",
      "\u001b[0;31mKeyboardInterrupt\u001b[0m                         Traceback (most recent call last)",
      "\u001b[0;32m<ipython-input-8-d26a0fc89a77>\u001b[0m in \u001b[0;36m<module>\u001b[0;34m()\u001b[0m\n\u001b[1;32m     18\u001b[0m         \u001b[0mdev\u001b[0m\u001b[1;33m.\u001b[0m\u001b[0mActivateTriggerIn\u001b[0m\u001b[1;33m(\u001b[0m\u001b[1;36m0x53\u001b[0m\u001b[1;33m,\u001b[0m \u001b[1;36m0x02\u001b[0m\u001b[1;33m)\u001b[0m\u001b[1;33m\u001b[0m\u001b[0m\n\u001b[1;32m     19\u001b[0m         \u001b[0mdev\u001b[0m\u001b[1;33m.\u001b[0m\u001b[0mSetWireInValue\u001b[0m\u001b[1;33m(\u001b[0m\u001b[1;36m0x10\u001b[0m\u001b[1;33m,\u001b[0m \u001b[1;36m0xff\u001b[0m\u001b[1;33m,\u001b[0m \u001b[1;36m0x01\u001b[0m\u001b[1;33m)\u001b[0m\u001b[1;33m;\u001b[0m\u001b[1;33m\u001b[0m\u001b[0m\n\u001b[0;32m---> 20\u001b[0;31m         \u001b[0mdev\u001b[0m\u001b[1;33m.\u001b[0m\u001b[0mUpdateWireIns\u001b[0m\u001b[1;33m(\u001b[0m\u001b[1;33m)\u001b[0m\u001b[1;33m;\u001b[0m\u001b[1;33m\u001b[0m\u001b[0m\n\u001b[0m\u001b[1;32m     21\u001b[0m         \u001b[0mdev\u001b[0m\u001b[1;33m.\u001b[0m\u001b[0mSetWireInValue\u001b[0m\u001b[1;33m(\u001b[0m\u001b[1;36m0x10\u001b[0m\u001b[1;33m,\u001b[0m \u001b[1;36m0x00\u001b[0m\u001b[1;33m,\u001b[0m \u001b[1;36m0x01\u001b[0m\u001b[1;33m)\u001b[0m\u001b[1;33m;\u001b[0m\u001b[1;33m\u001b[0m\u001b[0m\n\u001b[1;32m     22\u001b[0m         \u001b[0mdev\u001b[0m\u001b[1;33m.\u001b[0m\u001b[0mUpdateWireIns\u001b[0m\u001b[1;33m(\u001b[0m\u001b[1;33m)\u001b[0m\u001b[1;33m;\u001b[0m\u001b[1;33m\u001b[0m\u001b[0m\n",
      "\u001b[0;32mC:\\Users\\MBImager\\Documents\\OpalKelly\\Navid\\iPython_test\\ok.pyc\u001b[0m in \u001b[0;36mUpdateWireIns\u001b[0;34m(self)\u001b[0m\n\u001b[1;32m    851\u001b[0m     \u001b[1;32mdef\u001b[0m \u001b[0mSetWireInValue\u001b[0m\u001b[1;33m(\u001b[0m\u001b[0mself\u001b[0m\u001b[1;33m,\u001b[0m \u001b[1;33m*\u001b[0m\u001b[0margs\u001b[0m\u001b[1;33m)\u001b[0m\u001b[1;33m:\u001b[0m \u001b[1;32mreturn\u001b[0m \u001b[0m_ok\u001b[0m\u001b[1;33m.\u001b[0m\u001b[0mokCFrontPanel_SetWireInValue\u001b[0m\u001b[1;33m(\u001b[0m\u001b[0mself\u001b[0m\u001b[1;33m,\u001b[0m \u001b[1;33m*\u001b[0m\u001b[0margs\u001b[0m\u001b[1;33m)\u001b[0m\u001b[1;33m\u001b[0m\u001b[0m\n\u001b[1;32m    852\u001b[0m     \u001b[1;32mdef\u001b[0m \u001b[0mUpdateTriggerOuts\u001b[0m\u001b[1;33m(\u001b[0m\u001b[0mself\u001b[0m\u001b[1;33m)\u001b[0m\u001b[1;33m:\u001b[0m \u001b[1;32mreturn\u001b[0m \u001b[0m_ok\u001b[0m\u001b[1;33m.\u001b[0m\u001b[0mokCFrontPanel_UpdateTriggerOuts\u001b[0m\u001b[1;33m(\u001b[0m\u001b[0mself\u001b[0m\u001b[1;33m)\u001b[0m\u001b[1;33m\u001b[0m\u001b[0m\n\u001b[0;32m--> 853\u001b[0;31m     \u001b[1;32mdef\u001b[0m \u001b[0mUpdateWireIns\u001b[0m\u001b[1;33m(\u001b[0m\u001b[0mself\u001b[0m\u001b[1;33m)\u001b[0m\u001b[1;33m:\u001b[0m \u001b[1;32mreturn\u001b[0m \u001b[0m_ok\u001b[0m\u001b[1;33m.\u001b[0m\u001b[0mokCFrontPanel_UpdateWireIns\u001b[0m\u001b[1;33m(\u001b[0m\u001b[0mself\u001b[0m\u001b[1;33m)\u001b[0m\u001b[1;33m\u001b[0m\u001b[0m\n\u001b[0m\u001b[1;32m    854\u001b[0m     \u001b[1;32mdef\u001b[0m \u001b[0mUpdateWireOuts\u001b[0m\u001b[1;33m(\u001b[0m\u001b[0mself\u001b[0m\u001b[1;33m)\u001b[0m\u001b[1;33m:\u001b[0m \u001b[1;32mreturn\u001b[0m \u001b[0m_ok\u001b[0m\u001b[1;33m.\u001b[0m\u001b[0mokCFrontPanel_UpdateWireOuts\u001b[0m\u001b[1;33m(\u001b[0m\u001b[0mself\u001b[0m\u001b[1;33m)\u001b[0m\u001b[1;33m\u001b[0m\u001b[0m\n\u001b[1;32m    855\u001b[0m     \u001b[1;32mdef\u001b[0m \u001b[0mFlashWrite\u001b[0m\u001b[1;33m(\u001b[0m\u001b[0mself\u001b[0m\u001b[1;33m,\u001b[0m \u001b[1;33m*\u001b[0m\u001b[0margs\u001b[0m\u001b[1;33m)\u001b[0m\u001b[1;33m:\u001b[0m \u001b[1;32mreturn\u001b[0m \u001b[0m_ok\u001b[0m\u001b[1;33m.\u001b[0m\u001b[0mokCFrontPanel_FlashWrite\u001b[0m\u001b[1;33m(\u001b[0m\u001b[0mself\u001b[0m\u001b[1;33m,\u001b[0m \u001b[1;33m*\u001b[0m\u001b[0margs\u001b[0m\u001b[1;33m)\u001b[0m\u001b[1;33m\u001b[0m\u001b[0m\n",
      "\u001b[0;31mKeyboardInterrupt\u001b[0m: "
     ]
    }
   ],
   "source": [
    "# Trigger the counter\n",
    "dev.ActivateTriggerIn(0x53, 0x01)\n",
    "cv2.namedWindow(\"imFull\",cv2.WINDOW_NORMAL)\n",
    "cv2.namedWindow(\"im\",cv2.WINDOW_NORMAL)\n",
    "while True:\n",
    "    # Check for FIFO flag\n",
    "    dev.UpdateTriggerOuts()\n",
    "    # If the FIFO is full, read everything and display one frame only and exit the while loop\n",
    "    if dev.IsTriggered(0x6A, 0x01) == True:\n",
    "        # print 'FIFO full! ', count, ' times'\n",
    "        count = count + 1\n",
    "        dev.ReadFromPipeOut(0xA0, datain128)\n",
    "        for i in range(row):\n",
    "            im[i] = datain128[i*col:i*col+col]\n",
    "        im = im/255\n",
    "        cv2.imshow('imFull',im)\n",
    "        cv2.waitKey(1)\n",
    "        dev.ActivateTriggerIn(0x53, 0x02)\n",
    "        dev.SetWireInValue(0x10, 0xff, 0x01);\n",
    "        dev.UpdateWireIns();\n",
    "        dev.SetWireInValue(0x10, 0x00, 0x01);\n",
    "        dev.UpdateWireIns(); \n",
    "        # break\n",
    "    # If one frame is ready in FIFO\n",
    "    if dev.IsTriggered(0x6A, 0x04) == True:\n",
    "        dev.ReadFromPipeOut(0xA0, datain1)\n",
    "        for i in range(row):\n",
    "            im[i] = datain1[i*col:i*col+col]\n",
    "        im = im/255\n",
    "        cv2.waitKey(1)\n",
    "        cv2.imshow('im',im)"
   ]
  },
  {
   "cell_type": "code",
   "execution_count": 9,
   "metadata": {
    "collapsed": false
   },
   "outputs": [
    {
     "name": "stdout",
     "output_type": "stream",
     "text": [
      "[[ 216.  217.  218. ...,  101.  102.  103.]\n",
      " [ 104.  105.  106. ...,  229.  230.  231.]\n",
      " [ 232.  233.  234. ...,  117.  118.  119.]\n",
      " ..., \n",
      " [ 136.  137.  138. ...,   21.   22.   23.]\n",
      " [  24.   25.   26. ...,  149.  150.  151.]\n",
      " [ 152.  153.  154. ...,   37.   38.   39.]]\n"
     ]
    }
   ],
   "source": [
    "print im*255"
   ]
  }
 ],
 "metadata": {
  "anaconda-cloud": {},
  "kernelspec": {
   "display_name": "Python [default]",
   "language": "python",
   "name": "python2"
  },
  "language_info": {
   "codemirror_mode": {
    "name": "ipython",
    "version": 2
   },
   "file_extension": ".py",
   "mimetype": "text/x-python",
   "name": "python",
   "nbconvert_exporter": "python",
   "pygments_lexer": "ipython2",
   "version": "2.7.12"
  }
 },
 "nbformat": 4,
 "nbformat_minor": 1
}
