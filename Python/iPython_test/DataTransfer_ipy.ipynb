{
 "cells": [
  {
   "cell_type": "code",
   "execution_count": 1,
   "metadata": {
    "collapsed": false
   },
   "outputs": [],
   "source": [
    "import sys\n",
    "import ok"
   ]
  },
  {
   "cell_type": "code",
   "execution_count": 2,
   "metadata": {
    "collapsed": false
   },
   "outputs": [
    {
     "name": "stdout",
     "output_type": "stream",
     "text": [
      "Device[0] Model: 21\n",
      "Device[0] Serial: 143400091C\n"
     ]
    }
   ],
   "source": [
    "dev = ok.okCFrontPanel()\n",
    "deviceCount = dev.GetDeviceCount()\n",
    "for i in range(deviceCount):\n",
    "    print 'Device[{0}] Model: {1}'.format(i, dev.GetDeviceListModel(i))\n",
    "    print 'Device[{0}] Serial: {1}'.format(i, dev.GetDeviceListSerial(i))"
   ]
  },
  {
   "cell_type": "code",
   "execution_count": 3,
   "metadata": {
    "collapsed": true
   },
   "outputs": [],
   "source": [
    "# data buffer in Python (mutable type bytearray) must be initialized upon declaration\n",
    "dataout = bytearray('abcdefghijklmnopqrstuvwxyzabcdef')\n",
    "datain = bytearray('00000000000000000000000000000000')"
   ]
  },
  {
   "cell_type": "code",
   "execution_count": 4,
   "metadata": {
    "collapsed": true
   },
   "outputs": [],
   "source": [
    "dev.OpenBySerial(\"\")\n",
    "error = dev.ConfigureFPGA(\"data_transfer.bit\")\n",
    "# Its a good idea to check for errors here"
   ]
  },
  {
   "cell_type": "code",
   "execution_count": 5,
   "metadata": {
    "collapsed": false
   },
   "outputs": [
    {
     "name": "stdout",
     "output_type": "stream",
     "text": [
      "FrontPanel host interface enabled.\n"
     ]
    }
   ],
   "source": [
    "# IsFrontPanelEnabled returns true if FrontPanel is detected.\n",
    "if True == dev.IsFrontPanelEnabled():\n",
    "    print \"FrontPanel host interface enabled.\"\n",
    "else:\n",
    "    sys.stderr.write(\"FrontPanel host interface not detected.\")"
   ]
  },
  {
   "cell_type": "code",
   "execution_count": 6,
   "metadata": {
    "collapsed": true
   },
   "outputs": [],
   "source": [
    "# Send brief reset signal to initialize the FIFO.\n",
    "dev.SetWireInValue(0x10, 0xff, 0x01);\n",
    "dev.UpdateWireIns();\n",
    "dev.SetWireInValue(0x10, 0x00, 0x01);\n",
    "dev.UpdateWireIns();"
   ]
  },
  {
   "cell_type": "code",
   "execution_count": 7,
   "metadata": {
    "collapsed": false,
    "scrolled": true
   },
   "outputs": [
    {
     "name": "stdout",
     "output_type": "stream",
     "text": [
      "('Initial FIFO outputs: ', 4)\n"
     ]
    }
   ],
   "source": [
    "# Retreive values from FIFO\n",
    "dev.UpdateWireOuts()\n",
    "A = dev.GetWireOutValue(0x21)\n",
    "print (\"Initial FIFO outputs: \", A)"
   ]
  },
  {
   "cell_type": "code",
   "execution_count": 8,
   "metadata": {
    "collapsed": false
   },
   "outputs": [
    {
     "name": "stdout",
     "output_type": "stream",
     "text": [
      "data length write: 32\n",
      "data length read: 32\n",
      "data read from XEM6310: abcdefghijklmnopqrstuvwxyzabcdef\n"
     ]
    }
   ],
   "source": [
    "# Send buffer to PipeIn endpoint with address 0x80\n",
    "data = dev.WriteToPipeIn(0x80, dataout)\n",
    "print (\"data length write: \" + str(data))\n",
    "# Read to buffer from PipeOut endpoint with address 0xA0\n",
    "data = dev.ReadFromPipeOut(0xA0, datain)\n",
    "print (\"data length read: \" + str(data))\n",
    "print (\"data read from XEM6310: \" + datain)"
   ]
  },
  {
   "cell_type": "code",
   "execution_count": 9,
   "metadata": {
    "collapsed": false
   },
   "outputs": [
    {
     "name": "stdout",
     "output_type": "stream",
     "text": [
      "('Final FIFO outputs: ', 4)\n"
     ]
    }
   ],
   "source": [
    "dev.UpdateWireOuts()\n",
    "A = dev.GetWireOutValue(0x21)\n",
    "print (\"Final FIFO outputs: \", A)"
   ]
  }
 ],
 "metadata": {
  "anaconda-cloud": {},
  "kernelspec": {
   "display_name": "Python [default]",
   "language": "python",
   "name": "python2"
  },
  "language_info": {
   "codemirror_mode": {
    "name": "ipython",
    "version": 2
   },
   "file_extension": ".py",
   "mimetype": "text/x-python",
   "name": "python",
   "nbconvert_exporter": "python",
   "pygments_lexer": "ipython2",
   "version": "2.7.12"
  }
 },
 "nbformat": 4,
 "nbformat_minor": 1
}
